{
    "cells": [
        {
            "metadata": {},
            "cell_type": "code",
            "source": "import numpy as np\nimport datetime as dt\nimport pandas as pd\nfrom pandas import DataFrame as df\nimport sklearn as skl\nfrom sklearn import datasets\nimport tensorflow as tf",
            "execution_count": 1,
            "outputs": []
        },
        {
            "metadata": {},
            "cell_type": "code",
            "source": "tf.__version__, skl.__version__",
            "execution_count": 3,
            "outputs": [
                {
                    "output_type": "execute_result",
                    "execution_count": 3,
                    "data": {
                        "text/plain": "('2.1.0', '0.23.1')"
                    },
                    "metadata": {}
                }
            ]
        },
        {
            "metadata": {},
            "cell_type": "code",
            "source": "print(datasets.load_iris().keys())\niris_data = datasets.load_iris()['data']\nprint(iris_data.shape)",
            "execution_count": 4,
            "outputs": [
                {
                    "output_type": "stream",
                    "text": "dict_keys(['data', 'target', 'frame', 'target_names', 'DESCR', 'feature_names', 'filename'])\n(150, 4)\n",
                    "name": "stdout"
                }
            ]
        }
    ],
    "metadata": {
        "kernelspec": {
            "name": "python3",
            "display_name": "Python 3.7",
            "language": "python"
        },
        "language_info": {
            "name": "python",
            "version": "3.7.9",
            "mimetype": "text/x-python",
            "codemirror_mode": {
                "name": "ipython",
                "version": 3
            },
            "pygments_lexer": "ipython3",
            "nbconvert_exporter": "python",
            "file_extension": ".py"
        }
    },
    "nbformat": 4,
    "nbformat_minor": 1
}